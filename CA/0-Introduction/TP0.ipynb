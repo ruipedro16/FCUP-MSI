{
 "cells": [
  {
   "cell_type": "markdown",
   "id": "0e6eb236",
   "metadata": {},
   "source": [
    "## Ex 1, 2"
   ]
  },
  {
   "cell_type": "code",
   "execution_count": 1,
   "id": "9ac0085f",
   "metadata": {},
   "outputs": [],
   "source": [
    "from sage import *"
   ]
  },
  {
   "cell_type": "code",
   "execution_count": 2,
   "id": "d1b143af",
   "metadata": {},
   "outputs": [
    {
     "data": {
      "text/plain": [
       "(ATTACKATDAWN, DWWDFNDWGDZQ, ATTACKATDAWN)"
      ]
     },
     "execution_count": 2,
     "metadata": {},
     "output_type": "execute_result"
    }
   ],
   "source": [
    "caesar = AffineCryptosystem(AlphabeticStrings())\n",
    "a, b = (1, 3)\n",
    "\n",
    "EncObject = caesar.encoding('AttackAtDawn')\n",
    "Ciphertext = caesar.enciphering(a, b, EncObject)\n",
    "Plaintext = caesar.deciphering(a, b, Ciphertext)\n",
    "\n",
    "(EncObject, Ciphertext, Plaintext)"
   ]
  },
  {
   "cell_type": "markdown",
   "id": "5a48aebe",
   "metadata": {},
   "source": [
    "## Ex 3"
   ]
  },
  {
   "cell_type": "code",
   "execution_count": 3,
   "id": "46c8087e",
   "metadata": {},
   "outputs": [],
   "source": [
    "from os import urandom\n",
    "from binascii import hexlify\n",
    "from cryptography.hazmat.primitives.ciphers import Cipher, algorithms, modes"
   ]
  },
  {
   "cell_type": "code",
   "execution_count": 4,
   "id": "52da2283",
   "metadata": {},
   "outputs": [
    {
     "name": "stdout",
     "output_type": "stream",
     "text": [
      "b'25a67a50c83af8d55b4e35914fe53d2b'\n"
     ]
    },
    {
     "data": {
      "text/plain": [
       "16"
      ]
     },
     "execution_count": 4,
     "metadata": {},
     "output_type": "execute_result"
    }
   ],
   "source": [
    "key = urandom(16)\n",
    "\n",
    "cipher = Cipher(algorithms.AES(key), modes.ECB())\n",
    "encryptor = cipher.encryptor()\n",
    "\n",
    "# What happens if you don't pass 16−byte input?\n",
    "# ValueError: The length of the provided data is not a multiple of the block length.\n",
    "# Padding could be used to expand a message to fill a complete block by adding\n",
    "# extra bytes to the plaintext. This is vulnerable to padding oracle attacks\n",
    "\n",
    "ct = encryptor.update(b'attack at dawn!!') + encryptor.finalize()\n",
    "print(hexlify(key))\n",
    "\n",
    "cphFile = open('ciphertext.bin', 'wb')\n",
    "cphFile.write(ct)"
   ]
  },
  {
   "cell_type": "markdown",
   "id": "db084a94",
   "metadata": {},
   "source": [
    "## Ex 4 "
   ]
  },
  {
   "cell_type": "markdown",
   "id": "c209c5d9",
   "metadata": {},
   "source": [
    "```bash\n",
    "openssl enc -aes-128-ecb -nopad -d -K <key_in_hex> -in ciphertext.bin\n",
    "```\n",
    "\n",
    "- enc: Encoding with Ciphers\n",
    "- aes-128-ecb: AES-128 Cipher (Electronic Code Book)\n",
    "- nopad: Disable standard block padding\n",
    "- d: Decrypt the input data\n",
    "- K: The actual key to use: this must be represented as a string comprised only of hex digits\n",
    "- in: This specifies the input file"
   ]
  }
 ],
 "metadata": {
  "kernelspec": {
   "display_name": "SageMath 9.4",
   "language": "sage",
   "name": "sagemath"
  },
  "language_info": {
   "codemirror_mode": {
    "name": "ipython",
    "version": 3
   },
   "file_extension": ".py",
   "mimetype": "text/x-python",
   "name": "python",
   "nbconvert_exporter": "python",
   "pygments_lexer": "ipython3",
   "version": "3.9.7"
  }
 },
 "nbformat": 4,
 "nbformat_minor": 5
}
